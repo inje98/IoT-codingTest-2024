{
 "cells": [
  {
   "cell_type": "markdown",
   "metadata": {},
   "source": [
    "### 그리디 알고리즘(탐욕법)\n",
    "- 현재 상황에서 당장 좋은것만 선택하는 방법\n",
    "- 사전에 외우고 있지 않아도 풀 수 있는 유형의 알고리즘\n"
   ]
  },
  {
   "cell_type": "markdown",
   "metadata": {},
   "source": [
    "#### 예제 3-1 거스름돈\n",
    "- 카운터에 500원, 100원, 50원, 10원이 무한대로 존재\n",
    "- 손님에게 N원의 돈을 거슬러 줄때 동전의 최소갯수(단, N은 10의 배수)"
   ]
  },
  {
   "cell_type": "code",
   "execution_count": 15,
   "metadata": {},
   "outputs": [
    {
     "name": "stdout",
     "output_type": "stream",
     "text": [
      "8\n"
     ]
    }
   ],
   "source": [
    "n = 1860\n",
    "count = 0\n",
    "temp = 0\n",
    "# 동전을 전부 나열\n",
    "coins = [500, 100, 50, 10]\n",
    "\n",
    "for coin in coins:\n",
    "    temp = n\n",
    "    count += int(n / coin)\n",
    "    n = n % coin\n",
    "\n",
    "print(count)"
   ]
  },
  {
   "cell_type": "code",
   "execution_count": 17,
   "metadata": {},
   "outputs": [
    {
     "name": "stdout",
     "output_type": "stream",
     "text": [
      "13\n"
     ]
    }
   ],
   "source": [
    "n = 4230\n",
    "count = 0\n",
    "\n",
    "# 동전을 전부 나열\n",
    "coins = [500, 100, 50, 10]\n",
    "\n",
    "for coin in coins:\n",
    "    count += n // coin\n",
    "    n %= coin\n",
    "    \n",
    "\n",
    "print(count)"
   ]
  },
  {
   "cell_type": "markdown",
   "metadata": {},
   "source": [
    "#### 백준의 경우"
   ]
  },
  {
   "cell_type": "markdown",
   "metadata": {},
   "source": [
    "- n = int(input())\n",
    "- n, m = map(int, input().split())"
   ]
  },
  {
   "cell_type": "code",
   "execution_count": 27,
   "metadata": {},
   "outputs": [
    {
     "name": "stdout",
     "output_type": "stream",
     "text": [
      "4\n"
     ]
    }
   ],
   "source": [
    "## 백준 5585\n",
    "n = int(input()) ## 380, 1\n",
    "c = 1000\n",
    "count = 0\n",
    "temp = 0\n",
    "\n",
    "coin_types = [500, 100, 50, 10, 5, 1]\n",
    "# 입력된 돈으로 뺌\n",
    "c -= n\n",
    "c\n",
    "\n",
    "temp = c\n",
    "\n",
    "for coin in coin_types:\n",
    "    count += int(temp / coin)\n",
    "    temp = temp % coin\n",
    "\n",
    "print(count)"
   ]
  },
  {
   "cell_type": "markdown",
   "metadata": {},
   "source": [
    "#### 92p 예제 - 큰 수의 법칙\n",
    "- 배열에 들어있는 수를 M번 더하여 가장 큰 수를 만든다. 단, 같은 수가 K번 이상 반복될 수 없음\n",
    "- 배열 N(2 <= N <= 1000), 더하기 횟수(1 <= M <= 100000), 반복 가능수 K(1 <= K <= 100000)\n",
    "- 둘째 줄에 N의 자연수 배열 입력, 구분 공백으로\n",
    "- 입력으로 주어진 K는 항상 M보다 작음"
   ]
  },
  {
   "cell_type": "code",
   "execution_count": 29,
   "metadata": {},
   "outputs": [
    {
     "name": "stdout",
     "output_type": "stream",
     "text": [
      "46\n"
     ]
    }
   ],
   "source": [
    "## n m k를 입력받는다\n",
    "n, m, k = map(int, input().split())\n",
    "\n",
    "data = list(map(int, input().split()))\n",
    "\n",
    "## 정렬먼저\n",
    "data.sort(reverse=True)\n",
    "data\n",
    "upper = data[0]\n",
    "middle = data[1]\n",
    "result = 0\n",
    "\n",
    "while True:\n",
    "    for i in range(k):\n",
    "        if m == 0:\n",
    "            break\n",
    "        else:\n",
    "            result += upper\n",
    "            m -= 1\n",
    "    if m == 0:\n",
    "        break\n",
    "    else:\n",
    "        result += middle\n",
    "        m -= 1\n",
    "\n",
    "print(result)"
   ]
  },
  {
   "cell_type": "markdown",
   "metadata": {},
   "source": [
    "##### 프로그래머스 큰 수 만들기"
   ]
  },
  {
   "cell_type": "markdown",
   "metadata": {},
   "source": [
    "\n",
    "#### C++로 내가 풀어본거\n",
    "```c++\n",
    "#include <iostream>\n",
    "#include <string>\n",
    "#include <vector>\n",
    "#include <stack>\n",
    "#include <algorithm>\n",
    "\n",
    "\n",
    "using namespace std;\n",
    "\n",
    "string solution(string number, int k) {\n",
    "    string answer = \"\";\n",
    "\n",
    "    int Cnt = 0;\n",
    "    stack<int> s;\n",
    "    bool check = false;\n",
    "\n",
    "    s.push(number[0] - '0');\n",
    "    \n",
    "\n",
    "\n",
    "    for (int i = 1; i < number.size(); i++)\n",
    "    {\n",
    "        while (Cnt != k)\n",
    "        {\n",
    "            if (s.top() >= number[i] - '0') //  while 돌면서 나보다 큰 놈 나올때까지 pop\n",
    "                                            // 나오면 이 if문 안으로 들어가서 '나' push\n",
    "            {\n",
    "                s.push(number[i] - '0');\n",
    "                break;\n",
    "            }\n",
    "            s.pop();\n",
    "            Cnt++;\n",
    "\n",
    "            if (s.empty())\n",
    "            {\n",
    "                s.push(number[i] - '0');\n",
    "                check = true;\n",
    "                break;\n",
    "            }\n",
    "        }\n",
    "\n",
    "        if (check == true)\n",
    "        {\n",
    "            check = false;\n",
    "            continue;\n",
    "        }\n",
    "\n",
    "        if (Cnt == k) // pop 한 횟수랑 K 수랑 같아지는 순간부터는 차곡차곡 number.size()까지 다 넣어\n",
    "        {\n",
    "            s.push(number[i] - '0');\n",
    "        }\n",
    "        \n",
    "    }\n",
    "\n",
    "    if (Cnt < k)\n",
    "    {\n",
    "        for (int i = 0; i < k - Cnt; i++)\n",
    "        {\n",
    "            s.pop();\n",
    "        }\n",
    "    }\n",
    "\n",
    "    while (!s.empty())\n",
    "    {\n",
    "        answer = char((s.top() + '0')) + answer;\n",
    "        s.pop();\n",
    "    }\n",
    "\n",
    "\n",
    "    return answer;\n",
    "}\n",
    "\n",
    "int main()\n",
    "{\n",
    "    string number = \"4327654\"; \n",
    "    int k = 3;\n",
    "\n",
    "\n",
    "\n",
    "    string answerrr = solution(number, k);\n",
    "\n",
    "    cout << answerrr << endl;\n",
    "\n",
    "    return 0;\n",
    "\n",
    "}\n",
    "\n",
    "// GPT가 풀어준거\n",
    "\n",
    "//#include <iostream>\n",
    "//#include <string>\n",
    "//#include <stack>\n",
    "//\n",
    "//using namespace std;\n",
    "//\n",
    "//string solution(string number, int k) {\n",
    "//    stack<char> s;\n",
    "//    int removed = 0;\n",
    "//\n",
    "//    for (char digit : number) {\n",
    "//        // 스택이 비어있지 않고, 스택의 최상위 숫자가 현재 숫자보다 작으며, 아직 제거할 숫자가 남아 있는 경우\n",
    "//        while (!s.empty() && removed < k && s.top() < digit) {\n",
    "//            s.pop();\n",
    "//            removed++;\n",
    "//        }\n",
    "//        s.push(digit);\n",
    "//    }\n",
    "//\n",
    "//    // 여전히 제거할 숫자가 남아 있는 경우 스택에서 제거\n",
    "//    while (removed < k) {\n",
    "//        s.pop();\n",
    "//        removed++;\n",
    "//    }\n",
    "//\n",
    "//    // 스택의 요소를 문자열로 변환\n",
    "//    string answer = \"\";\n",
    "//    while (!s.empty()) {\n",
    "//        answer = s.top() + answer;\n",
    "//        s.pop();\n",
    "//    }\n",
    "//\n",
    "//    return answer;\n",
    "//}\n",
    "//\n",
    "//int main() {\n",
    "//    string number = \"4327654\";\n",
    "//    int k = 3;\n",
    "//\n",
    "//    string result = solution(number, k);\n",
    "//\n",
    "//    cout << result << endl;\n",
    "//\n",
    "//    return 0;\n",
    "//}\n",
    "\n",
    "```\n"
   ]
  },
  {
   "cell_type": "code",
   "execution_count": 1,
   "metadata": {},
   "outputs": [],
   "source": [
    "def solution(number, k):\n",
    "    answer = []\n",
    "    cnt = 0\n",
    "    stack = []\n",
    "    check = False\n",
    "\n",
    "    stack.append(int(number[0]))\n",
    "\n",
    "    for i in range(1, len(number)):\n",
    "        while cnt != k:\n",
    "            if stack and stack[-1] >= int(number[i]):  # stack[-1] --> 이게 top\n",
    "                stack.append(int(number[i]))\n",
    "                break\n",
    "            stack.pop()  # 새로 들어온 애가 더 크면 top이 pop\n",
    "            cnt += 1\n",
    "\n",
    "            if not stack:  # 새로 들어온 애가 그냥 제일 큰 애면 여기로 옴. stack에 있던 애들 다 pop 시키면서\n",
    "                stack.append(int(number[i]))\n",
    "                check = True\n",
    "                break\n",
    "        \n",
    "        if check:  # 새로 들어온 애가 제일 커서 stack에 있던 애들 다 pop 시키고 났더니 k == cnt 이면 아래에 있는 if문 들어가서 append 한번 더 하니까 이거 예외\n",
    "            check = False\n",
    "            continue\n",
    "\n",
    "        if cnt == k:  # pop 을 k번 했으면, 나머지 요소들은 다 뒤에 append\n",
    "            stack.append(int(number[i]))\n",
    "\n",
    "    if cnt < k:  # for문 다돌았는데도 pop을 k번 보다 적게 했으면 k-cnt 만큼 끝에서부터 pop시킴\n",
    "        for i in range(k - cnt):\n",
    "            stack.pop()\n",
    "\n",
    "    answer = ''.join(map(str, stack))\n",
    "\n",
    "    return answer"
   ]
  },
  {
   "cell_type": "code",
   "execution_count": 5,
   "metadata": {},
   "outputs": [
    {
     "data": {
      "text/plain": [
       "'775841'"
      ]
     },
     "execution_count": 5,
     "metadata": {},
     "output_type": "execute_result"
    }
   ],
   "source": [
    "a = '4177252841'\n",
    "b = 4\n",
    "solution(a, b)"
   ]
  },
  {
   "cell_type": "code",
   "execution_count": 31,
   "metadata": {},
   "outputs": [
    {
     "data": {
      "text/plain": [
       "6"
      ]
     },
     "execution_count": 31,
     "metadata": {},
     "output_type": "execute_result"
    }
   ],
   "source": [
    "len(\"4177252841\") - 4"
   ]
  },
  {
   "cell_type": "code",
   "execution_count": 7,
   "metadata": {},
   "outputs": [
    {
     "data": {
      "text/plain": [
       "[4, 1, 7, 7, 2, 5, 2, 8, 4, 1, 1]"
      ]
     },
     "execution_count": 7,
     "metadata": {},
     "output_type": "execute_result"
    }
   ],
   "source": [
    "array = '4177252841'\n",
    "list(array)\n",
    "\n",
    "intAry = [int(_) for _ in array]\n",
    "\n",
    "intAry.append(1)\n",
    "intAry\n",
    "\n",
    "#intAry[1]\n",
    "\n",
    "\n",
    "#int('123')"
   ]
  },
  {
   "cell_type": "code",
   "execution_count": 2,
   "metadata": {},
   "outputs": [
    {
     "data": {
      "text/plain": [
       "5"
      ]
     },
     "execution_count": 2,
     "metadata": {},
     "output_type": "execute_result"
    }
   ],
   "source": [
    "number = \"24546\"\n",
    "k = 3\n",
    "len(number)"
   ]
  },
  {
   "cell_type": "code",
   "execution_count": 35,
   "metadata": {},
   "outputs": [],
   "source": [
    "def solution(number, k):\n",
    "    answer = []\n",
    "    answer = list(number)\n",
    "\n",
    "    for num in number:\n",
    "        print(num)\n",
    "\n",
    "    return "
   ]
  },
  {
   "cell_type": "code",
   "execution_count": 36,
   "metadata": {},
   "outputs": [
    {
     "name": "stdout",
     "output_type": "stream",
     "text": [
      "1\n",
      "9\n",
      "2\n",
      "4\n",
      "[]\n"
     ]
    }
   ],
   "source": [
    "print(solution(number, k))"
   ]
  },
  {
   "cell_type": "markdown",
   "metadata": {},
   "source": [
    "#### 교재 p99 1이 될 때까지\n",
    "- 어떤 수 N이 1이 될때까지 최소 회수\n",
    "    - N에서 1을 뺌\n",
    "    - N을 K로 나눔\n",
    "\n",
    "- N=17, K=4"
   ]
  },
  {
   "cell_type": "code",
   "execution_count": 56,
   "metadata": {},
   "outputs": [],
   "source": [
    "N = 17\n",
    "K = 4"
   ]
  },
  {
   "cell_type": "code",
   "execution_count": 60,
   "metadata": {},
   "outputs": [
    {
     "name": "stdout",
     "output_type": "stream",
     "text": [
      "3\n"
     ]
    }
   ],
   "source": [
    "n, k = map(int, input().split())\n",
    "\n",
    "def sol99(N, K):\n",
    "    count = 0\n",
    "    while(N != 1):\n",
    "        while (N % K == 0):\n",
    "            N = int(N / K)\n",
    "            count += 1\n",
    "        if (N != 1):\n",
    "            N = N - 1\n",
    "            count += 1\n",
    "    \n",
    "    return count\n",
    "\n",
    "        \n",
    "print(sol99(N, K))"
   ]
  },
  {
   "cell_type": "code",
   "execution_count": 51,
   "metadata": {},
   "outputs": [
    {
     "ename": "UnboundLocalError",
     "evalue": "cannot access local variable 'count' where it is not associated with a value",
     "output_type": "error",
     "traceback": [
      "\u001b[1;31m---------------------------------------------------------------------------\u001b[0m",
      "\u001b[1;31mUnboundLocalError\u001b[0m                         Traceback (most recent call last)",
      "Cell \u001b[1;32mIn[51], line 1\u001b[0m\n\u001b[1;32m----> 1\u001b[0m \u001b[43msol99\u001b[49m\u001b[43m(\u001b[49m\u001b[43mN\u001b[49m\u001b[43m,\u001b[49m\u001b[43m \u001b[49m\u001b[43mK\u001b[49m\u001b[43m)\u001b[49m\n",
      "Cell \u001b[1;32mIn[50], line 7\u001b[0m, in \u001b[0;36msol99\u001b[1;34m(N, K)\u001b[0m\n\u001b[0;32m      5\u001b[0m         count \u001b[38;5;241m+\u001b[39m\u001b[38;5;241m=\u001b[39m \u001b[38;5;241m1\u001b[39m\n\u001b[0;32m      6\u001b[0m     N \u001b[38;5;241m=\u001b[39m N \u001b[38;5;241m-\u001b[39m \u001b[38;5;241m1\u001b[39m\n\u001b[1;32m----> 7\u001b[0m     \u001b[43mcount\u001b[49m \u001b[38;5;241m+\u001b[39m\u001b[38;5;241m=\u001b[39m \u001b[38;5;241m1\u001b[39m\n\u001b[0;32m      8\u001b[0m \u001b[38;5;28;01mreturn\u001b[39;00m count\n",
      "\u001b[1;31mUnboundLocalError\u001b[0m: cannot access local variable 'count' where it is not associated with a value"
     ]
    }
   ],
   "source": [
    "n, k = map(int, input().split())\n",
    "count = 0\n",
    "\n",
    "while True:\n",
    "    if n == 1: break\n",
    "\n",
    "    if n % k == 0:\n",
    "        n = int(n / k)\n",
    "        count += 1\n",
    "\n",
    "    else:\n",
    "        n = n - 1\n",
    "        count += 1\n",
    "\n",
    "print(count)\n"
   ]
  },
  {
   "cell_type": "markdown",
   "metadata": {},
   "source": []
  },
  {
   "cell_type": "code",
   "execution_count": 1,
   "metadata": {},
   "outputs": [
    {
     "name": "stdout",
     "output_type": "stream",
     "text": [
      "-8\n"
     ]
    }
   ],
   "source": [
    "a = int(input())\n",
    "c = int(input())\n",
    "\n",
    "b_square = c^2 - a^2\n",
    "print(b_square)"
   ]
  }
 ],
 "metadata": {
  "kernelspec": {
   "display_name": "Python 3",
   "language": "python",
   "name": "python3"
  },
  "language_info": {
   "codemirror_mode": {
    "name": "ipython",
    "version": 3
   },
   "file_extension": ".py",
   "mimetype": "text/x-python",
   "name": "python",
   "nbconvert_exporter": "python",
   "pygments_lexer": "ipython3",
   "version": "3.11.5"
  }
 },
 "nbformat": 4,
 "nbformat_minor": 2
}
