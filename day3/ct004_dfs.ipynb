{
 "cells": [
  {
   "cell_type": "markdown",
   "metadata": {},
   "source": [
    "### dfs\n",
    "- 결론\n",
    "    - DFS - 스택 사용\n",
    "    - BFS - 큐 사용\n",
    "    - 재귀호출 포함\n",
    "    - 리스트만 가지고 구현해도 됨(헷갈리고, 오류가 날 수 있음, 코드양이 길어짐)\n",
    "\n",
    "#### DFS 이전에\n",
    "- Stack - Last-in First-out(LIFO)\n",
    "- Queue - First-in-First-out(FIFO)"
   ]
  },
  {
   "cell_type": "code",
   "execution_count": 2,
   "metadata": {},
   "outputs": [
    {
     "data": {
      "text/plain": [
       "[5, 2, 3, 7]"
      ]
     },
     "execution_count": 2,
     "metadata": {},
     "output_type": "execute_result"
    }
   ],
   "source": [
    "## 스택\n",
    "stack = [] ## 일반적인 리스트로 구현 가능\n",
    "\n",
    "## 5입력, 2입력, 3입력, 7입력 꺼내기, 1입력, 4입력, 꺼내기, 꺼내기\n",
    "stack.append(5)\n",
    "stack.append(2)\n",
    "stack.append(3)\n",
    "stack.append(7)\n",
    "stack"
   ]
  },
  {
   "cell_type": "code",
   "execution_count": 3,
   "metadata": {},
   "outputs": [
    {
     "data": {
      "text/plain": [
       "7"
      ]
     },
     "execution_count": 3,
     "metadata": {},
     "output_type": "execute_result"
    }
   ],
   "source": [
    "## 원래 스택 push(append), pop\n",
    "stack.pop()"
   ]
  },
  {
   "cell_type": "code",
   "execution_count": 4,
   "metadata": {},
   "outputs": [
    {
     "data": {
      "text/plain": [
       "[5, 2, 3]"
      ]
     },
     "execution_count": 4,
     "metadata": {},
     "output_type": "execute_result"
    }
   ],
   "source": [
    "stack"
   ]
  },
  {
   "cell_type": "code",
   "execution_count": 5,
   "metadata": {},
   "outputs": [
    {
     "data": {
      "text/plain": [
       "[5, 2, 3, 1, 4]"
      ]
     },
     "execution_count": 5,
     "metadata": {},
     "output_type": "execute_result"
    }
   ],
   "source": [
    "stack.append(1)\n",
    "stack.append(4)\n",
    "stack"
   ]
  },
  {
   "cell_type": "code",
   "execution_count": 6,
   "metadata": {},
   "outputs": [
    {
     "data": {
      "text/plain": [
       "4"
      ]
     },
     "execution_count": 6,
     "metadata": {},
     "output_type": "execute_result"
    }
   ],
   "source": [
    "val = stack.pop()\n",
    "val"
   ]
  },
  {
   "cell_type": "code",
   "execution_count": 7,
   "metadata": {},
   "outputs": [
    {
     "data": {
      "text/plain": [
       "[5, 2, 3, 1]"
      ]
     },
     "execution_count": 7,
     "metadata": {},
     "output_type": "execute_result"
    }
   ],
   "source": [
    "stack"
   ]
  },
  {
   "cell_type": "code",
   "execution_count": 8,
   "metadata": {},
   "outputs": [
    {
     "data": {
      "text/plain": [
       "[5, 2, 3]"
      ]
     },
     "execution_count": 8,
     "metadata": {},
     "output_type": "execute_result"
    }
   ],
   "source": [
    "val2 =stack.pop()\n",
    "stack"
   ]
  },
  {
   "cell_type": "code",
   "execution_count": 9,
   "metadata": {},
   "outputs": [
    {
     "data": {
      "text/plain": [
       "5"
      ]
     },
     "execution_count": 9,
     "metadata": {},
     "output_type": "execute_result"
    }
   ],
   "source": [
    "val + val2"
   ]
  },
  {
   "cell_type": "code",
   "execution_count": 11,
   "metadata": {},
   "outputs": [],
   "source": [
    "## 큐, 모듈에서 deque를 사용. deque로 큐처럼 사용가능\n",
    "## enqueue(마지막에 삽입 append), dequeue(처음에서 뽑아내기 popleft)\n",
    "## deque 구조에서 appendLeft, pop을 사용하지 않으면 queue하고 동일하게 동작\n",
    "from collections import deque\n",
    "\n",
    "queue = deque()"
   ]
  },
  {
   "cell_type": "code",
   "execution_count": 12,
   "metadata": {},
   "outputs": [
    {
     "data": {
      "text/plain": [
       "deque([5, 2, 3, 7])"
      ]
     },
     "execution_count": 12,
     "metadata": {},
     "output_type": "execute_result"
    }
   ],
   "source": [
    "queue.append(5)\n",
    "queue.append(2)\n",
    "queue.append(3)\n",
    "queue.append(7)\n",
    "queue"
   ]
  },
  {
   "cell_type": "code",
   "execution_count": 13,
   "metadata": {},
   "outputs": [
    {
     "data": {
      "text/plain": [
       "5"
      ]
     },
     "execution_count": 13,
     "metadata": {},
     "output_type": "execute_result"
    }
   ],
   "source": [
    "queue.popleft()"
   ]
  },
  {
   "cell_type": "code",
   "execution_count": 14,
   "metadata": {},
   "outputs": [
    {
     "data": {
      "text/plain": [
       "2"
      ]
     },
     "execution_count": 14,
     "metadata": {},
     "output_type": "execute_result"
    }
   ],
   "source": [
    "queue.append(1)\n",
    "queue.append(4)\n",
    "queue.popleft()"
   ]
  },
  {
   "cell_type": "code",
   "execution_count": 15,
   "metadata": {},
   "outputs": [
    {
     "data": {
      "text/plain": [
       "deque([3, 7, 1, 4])"
      ]
     },
     "execution_count": 15,
     "metadata": {},
     "output_type": "execute_result"
    }
   ],
   "source": [
    "queue"
   ]
  },
  {
   "cell_type": "markdown",
   "metadata": {},
   "source": [
    "- 스택하고 큐는 pip로 다른 모듈을 설치해도 되지만\n",
    "- 코딩테스트에서는 pip를 허용하지 않으므로 deque를 쓰세요"
   ]
  },
  {
   "cell_type": "code",
   "execution_count": 16,
   "metadata": {},
   "outputs": [
    {
     "data": {
      "text/plain": [
       "[3, 7, 1, 4]"
      ]
     },
     "execution_count": 16,
     "metadata": {},
     "output_type": "execute_result"
    }
   ],
   "source": [
    "## deque에서 list로 형변환\n",
    "list(queue)"
   ]
  },
  {
   "cell_type": "markdown",
   "metadata": {},
   "source": [
    "#### 재귀호출\n",
    "- 꽤 어렵다. 잘 생각해보면 그렇게 어렵지도 않음\n",
    "- 디버깅이 힘들기때문에 어렵다고 생각됨\n",
    "- 재귀호출을 사용하지 않으면 소스코드가 많이 길어질 수 있음\n",
    "- 수학적인 지식이 많이 들어가는 함수"
   ]
  },
  {
   "cell_type": "code",
   "execution_count": null,
   "metadata": {},
   "outputs": [],
   "source": [
    "## 무한 루프마냥 무한히 재귀호출\n",
    "## 예외발생한다\n",
    "## 다른언어는 컴퓨터 메모리가 받쳐줄때까지 무한대로 재귀!\n",
    "## 프렉탈 구조(시에르핀스키 삼각형 등)를 그리거나 할때 재귀호출 사용\n",
    "def rec_call():\n",
    "    print('재귀호출')\n",
    "    rec_call()\n",
    "\n",
    "rec_call()"
   ]
  },
  {
   "cell_type": "code",
   "execution_count": 17,
   "metadata": {},
   "outputs": [],
   "source": [
    "## 일반적인 방식(반복)으로 팩토리얼 구하기\n",
    "def factorial_iter(n):\n",
    "    result = 1\n",
    "    # 1부터 n까지의 수를 곱하기\n",
    "    for i in range(1, n+1):\n",
    "        result *= i\n",
    "\n",
    "    return result ## 팩토리얼이기 때문에 짧음."
   ]
  },
  {
   "cell_type": "code",
   "execution_count": 18,
   "metadata": {},
   "outputs": [],
   "source": [
    "## 재귀호출로 팩토리얼 구하기\n",
    "def factorial_rec(n):\n",
    "    if n <= 1:\n",
    "        return 1\n",
    "    \n",
    "    # n! = n(n-1)!로 구하기\n",
    "    return n * factorial_rec(n - 1)"
   ]
  },
  {
   "cell_type": "code",
   "execution_count": 20,
   "metadata": {},
   "outputs": [
    {
     "data": {
      "text/plain": [
       "120"
      ]
     },
     "execution_count": 20,
     "metadata": {},
     "output_type": "execute_result"
    }
   ],
   "source": [
    "factorial_iter(5)"
   ]
  },
  {
   "cell_type": "code",
   "execution_count": 22,
   "metadata": {},
   "outputs": [
    {
     "data": {
      "text/plain": [
       "120"
      ]
     },
     "execution_count": 22,
     "metadata": {},
     "output_type": "execute_result"
    }
   ],
   "source": [
    "factorial_rec(5)"
   ]
  },
  {
   "cell_type": "markdown",
   "metadata": {},
   "source": [
    "- 점화식 - 수학으로 풀수있는 함수 등을 사용해서 구하는 방정식\n",
    "    - 점화식을 잘 만들 수 있으면 코딩테스트를 쉽게 해결할 수 있음"
   ]
  },
  {
   "cell_type": "markdown",
   "metadata": {},
   "source": [
    "### DFS\n",
    "- Depth First Search - 깊이 우선 탐색\n",
    "    - 그래프에서 깊은 부분을 우선적으로 탐색하는 알고리즘\n",
    "\n",
    "- 노드와 엣지 간의 관계를 표현하는 방식\n",
    "    - 인접행렬\n",
    "    - 인접리스트\n",
    "    - $O(n)$"
   ]
  },
  {
   "cell_type": "code",
   "execution_count": 25,
   "metadata": {},
   "outputs": [
    {
     "data": {
      "text/plain": [
       "[[0, 7, 5], [7, 0, 9999999999], [5, 9999999999, 0]]"
      ]
     },
     "execution_count": 25,
     "metadata": {},
     "output_type": "execute_result"
    }
   ],
   "source": [
    "## 인접행렬(매트릭스 형태)\n",
    "INF = 9999999999 # 무한대 뜻\n",
    "\n",
    "graph = [ # 인접리스트\n",
    "    [0, 7, 5],\n",
    "    [7, 0, INF],\n",
    "    [5, INF, 0]\n",
    "]\n",
    "\n",
    "graph"
   ]
  },
  {
   "cell_type": "markdown",
   "metadata": {},
   "source": [
    "- 무방향 그래프에서는 사선으로 0값이 연결됨"
   ]
  },
  {
   "cell_type": "code",
   "execution_count": 27,
   "metadata": {},
   "outputs": [
    {
     "data": {
      "text/plain": [
       "[[(1, 7), (2, 5)], [(0, 7)], [(0, 5)]]"
      ]
     },
     "execution_count": 27,
     "metadata": {},
     "output_type": "execute_result"
    }
   ],
   "source": [
    "## 인접리스트(리스트 형태)\n",
    "graph2 = [[] for _ in range(3)] # 노드가 3개니까\n",
    "\n",
    "## 노드0에서 가는 길 입력\n",
    "graph2[0].append((1, 7)) ## 1번 노드로 갈때 비용 7\n",
    "graph2[0].append((2, 5)) ## 2번 노드로 갈때 비용 5\n",
    "\n",
    "## 노드1에서 갈 수 있는 길 입력\n",
    "graph2[1].append((0, 7))\n",
    "\n",
    "## 노드2에서 갈 수 있는 길\n",
    "graph2[2].append((0, 5))\n",
    "\n",
    "graph2"
   ]
  },
  {
   "attachments": {
    "KakaoTalk_20240819_104319492.png": {
     "image/png": "[encoded data removed]"
    }
   },
   "cell_type": "markdown",
   "metadata": {},
   "source": [
    "- 인접행렬\n",
    "    - 무방향일때 효율적\n",
    "\n",
    "- 인접리스트\n",
    "    - 방향성 있을때 효율적\n",
    "    - 메모리 효율적\n",
    "\n",
    "![KakaoTalk_20240819_104319492.png](attachment:KakaoTalk_20240819_104319492.png)\n",
    "\n",
    "테스트 코드 예제 그래프"
   ]
  },
  {
   "cell_type": "code",
   "execution_count": 29,
   "metadata": {},
   "outputs": [
    {
     "data": {
      "text/plain": [
       "[[], [2, 3, 8], [1, 7], [1, 4, 5], [3, 5], [3, 4], [7], [2, 6, 8], [1, 7]]"
      ]
     },
     "execution_count": 29,
     "metadata": {},
     "output_type": "execute_result"
    }
   ],
   "source": [
    "## 인접리스트로 그래프값을 구성\n",
    "dfs_graph = [\n",
    "    [], ## 0번이 없기 때문에 비워둠\n",
    "    [2, 3, 8], # 1번 노드에서는 2,3,8번 노드로 갈 수 있음\n",
    "    [1, 7], # 2번 노드에서는 ...\n",
    "    [1, 4, 5], #3\n",
    "    [3, 5], # 4\n",
    "    [3, 4], # 5\n",
    "    [7], # 6\n",
    "    [2, 6, 8], # 7\n",
    "    [1, 7] # 8\n",
    "]\n",
    "\n",
    "# 각 노드의 방문정보를 1차원 리스트로 생성\n",
    "visited = [False] * 9\n",
    "dfs_graph"
   ]
  },
  {
   "cell_type": "code",
   "execution_count": 30,
   "metadata": {},
   "outputs": [],
   "source": [
    "## DFS 함수\n",
    "def dfs(graph, node, visited):\n",
    "    # 현재 노드를 방문처리\n",
    "    visited[node] = True\n",
    "    print(node, end=' ') # 재귀함수기 때문에 마지막 호출된 재귀함수의 값이 출력\n",
    "    for i in graph[node]:\n",
    "        if not visited[i]:\n",
    "            ## 재귀호출!\n",
    "            dfs(graph=graph, node = i, visited=visited)"
   ]
  },
  {
   "cell_type": "code",
   "execution_count": 31,
   "metadata": {},
   "outputs": [
    {
     "name": "stdout",
     "output_type": "stream",
     "text": [
      "1 2 7 6 8 3 4 5 "
     ]
    }
   ],
   "source": [
    "dfs(dfs_graph, 1, visited)"
   ]
  },
  {
   "cell_type": "markdown",
   "metadata": {},
   "source": [
    "### BFS\n",
    "\n",
    "- Breadth First Search - 넓이 우선 탐색\n",
    "    - 가까운 노드부터 탐색하는 알고리즘\n",
    "    - 큐를 사용해서 구현\n",
    "    - $O(N)$ 복잡도, DFS보다 더 빠르다\n",
    "- 재귀호출은 컴퓨터 수행시간이 빠르지 않음. 느려지는 경우도 발생"
   ]
  },
  {
   "cell_type": "code",
   "execution_count": 33,
   "metadata": {},
   "outputs": [
    {
     "data": {
      "text/plain": [
       "[[], [2, 3, 8], [1, 7], [1, 4, 5], [3, 5], [3, 4], [7], [2, 6, 8], [1, 7]]"
      ]
     },
     "execution_count": 33,
     "metadata": {},
     "output_type": "execute_result"
    }
   ],
   "source": [
    "bfs_graph = [\n",
    "    [], ## 0번이 없기 때문에 비워둠\n",
    "    [2, 3, 8], # 1번 노드에서는 2,3,8번 노드로 갈 수 있음\n",
    "    [1, 7], # 2번 노드에서는 ...\n",
    "    [1, 4, 5], #3\n",
    "    [3, 5], # 4\n",
    "    [3, 4], # 5\n",
    "    [7], # 6\n",
    "    [2, 6, 8], # 7\n",
    "    [1, 7] # 8\n",
    "]\n",
    "\n",
    "# 각 노드의 방문정보를 1차원 리스트로 생성\n",
    "bfs_visited = [False] * 9\n",
    "bfs_graph"
   ]
  },
  {
   "cell_type": "code",
   "execution_count": 34,
   "metadata": {},
   "outputs": [],
   "source": [
    "def bfs(graph, start, visited):\n",
    "    ## 큐 대신 deque\n",
    "    queue = deque([start])\n",
    "    # 현재노드 방문처리\n",
    "    visited[start] = True\n",
    "    # 큐가 빌때까지 반복\n",
    "    while queue:\n",
    "        # 큐에서 하나의 노드를 뽑음\n",
    "        node = queue.popleft()\n",
    "        print(node, end=' ')\n",
    "        # 해당 노드가 연결된 아직 방문안한 노드들을 큐에 삽입\n",
    "        for i in graph[node]:\n",
    "            if not visited[i]:\n",
    "                queue.append(i)\n",
    "                visited[i] = True"
   ]
  },
  {
   "cell_type": "code",
   "execution_count": 35,
   "metadata": {},
   "outputs": [],
   "source": [
    "bfs(bfs_graph, 1, bfs_visited)"
   ]
  }
 ],
 "metadata": {
  "kernelspec": {
   "display_name": "Python 3",
   "language": "python",
   "name": "python3"
  },
  "language_info": {
   "codemirror_mode": {
    "name": "ipython",
    "version": 3
   },
   "file_extension": ".py",
   "mimetype": "text/x-python",
   "name": "python",
   "nbconvert_exporter": "python",
   "pygments_lexer": "ipython3",
   "version": "3.11.5"
  }
 },
 "nbformat": 4,
 "nbformat_minor": 2
}
