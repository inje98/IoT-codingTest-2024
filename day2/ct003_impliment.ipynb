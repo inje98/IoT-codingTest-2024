{
 "cells": [
  {
   "cell_type": "markdown",
   "metadata": {},
   "source": [
    "### 구현\n",
    "\n",
    "- Python - C로 구현한 파이썬 자체(CPython)\n",
    "- "
   ]
  },
  {
   "cell_type": "markdown",
   "metadata": {},
   "source": [
    "#### 예제 4-1\n",
    "- 여행가 A가 N x N 정사각형 공간에서, LRUD 방향으로 옮겨갈 수 있음\n",
    "- 입력\n",
    "- 5\n",
    "- R R R U D"
   ]
  },
  {
   "cell_type": "code",
   "execution_count": 22,
   "metadata": {},
   "outputs": [
    {
     "data": {
      "text/plain": [
       "[0, -1]"
      ]
     },
     "execution_count": 22,
     "metadata": {},
     "output_type": "execute_result"
    }
   ],
   "source": [
    "n = int(input())\n",
    "plans = input().split()\n",
    "\n",
    "\n",
    "def solution(plans, n):\n",
    "    answer = []\n",
    "    x, y = 0, 0\n",
    "    dx = [0, 0, -1, 1]\n",
    "    dy = [1, -1, 0, 0]\n",
    "    move_types = ['up', 'down', 'left', 'right']\n",
    "\n",
    "    for plan in plans:\n",
    "        for i in range(len(move_types)):\n",
    "            if plan == move_types[i]:\n",
    "                nx = x + dx[i]\n",
    "                ny = y + dy[i]\n",
    "                \n",
    "        if nx < -(n//2) or ny < -(n//2) or nx > n//2 or ny > n//2:\n",
    "            continue\n",
    "        \n",
    "        x, y = nx, ny\n",
    "    \n",
    "    answer.append(x)\n",
    "    answer.append(y)\n",
    "    return answer\n",
    "\n",
    "a = solution(plans, n)\n",
    "a\n",
    "\n",
    "\n",
    "\n",
    "    \n",
    "\n",
    "\n",
    "    "
   ]
  },
  {
   "cell_type": "code",
   "execution_count": null,
   "metadata": {},
   "outputs": [],
   "source": [
    "N = int(input())\n",
    "X, Y = 1, 1\n",
    "plans = input().split()\n",
    "\n",
    "directions = ['L', 'R', 'U', 'D']\n",
    "dx = [-1, 1, 0, 0]\n",
    "dy = [0, 0, -1, 1]\n",
    "\n",
    "for plan in plans:\n",
    "    dir = str(plan).upper() # 그냥 대문자로 바꿔주는거\n",
    "    \n",
    "    for i in range(len(directions)):\n",
    "        if dir == directions[i]:\n",
    "            nx = X + dx[i]\n",
    "            ny = Y + dy[i]\n",
    "    \n",
    "    if nx < 1 or ny < 1 or nx > N or ny > N:\n",
    "        continue\n",
    "    else:\n",
    "        X, Y = nx, ny\n",
    "\n",
    "print(X, Y)\n"
   ]
  },
  {
   "cell_type": "markdown",
   "metadata": {},
   "source": [
    "#### P.118 게임개발\n",
    "- 1 X 1 정사각형 타일로 이루어진 N X M 직사각형 지도\n",
    "- 1은 바다, 0은 육지\n",
    "- 캐릭터는 동(1)서(3)남(2)북(0)을 바라보고 있음\n",
    "- 캐릭터는 상하좌우로 이동가능, 바다로 된 공간은 이동불가\n",
    "- 캐릭터는 북쪽으로 이동, 90도 왼쪽으로 회전 서쪽으로 이동, 네 방향 모두 이미 가본 칸이거나 바다로 되어 있으면, 바라보는 방향을 유지하고 한칸 뒤로 이동\n",
    "- 이 루틴 반복해서 캐릭터가 방문한 칸의 수를 출력하는 프로그램 작성\n",
    "\n",
    "- 입력예시\n",
    "```shell\n",
    "4 4 # 4X4 지도 생성\n",
    "1 1 0 # 캐릭터 x, y, 방향(0=북쪽)\n",
    "1 1 1 1  # 0은 육지, 1은 바다 첫줄은 모두 바다\n",
    "1 0 0 1\n",
    "1 1 0 1\n",
    "1 1 1 1\n",
    "```\n",
    "\n",
    "- 출력예시\n",
    "```shell\n",
    "3\n",
    "```\n",
    "\n"
   ]
  },
  {
   "cell_type": "code",
   "execution_count": 8,
   "metadata": {},
   "outputs": [
    {
     "name": "stdout",
     "output_type": "stream",
     "text": [
      "3\n"
     ]
    }
   ],
   "source": [
    "# N, M 값 공백으로 입력\n",
    "N, M = map(int, input().split())\n",
    "\n",
    "# 방문할 앱 생성. 0으로 초기화\n",
    "map1 = [[0] * M for _ in range(N)] # 리스트 컴프리핸션(리스트 내 반복문을 써서 리스트 효율적으로 만드는 방법)\n",
    "                                  # [M][N] 배열 다 0으로 초기화\n",
    "\n",
    "# 현재 캐릭터 위치, 방향 입력\n",
    "x, y, direct = map(int, input().split()) # 1 1 0 -> 1,1위치에 북쪽 이동\n",
    "map1[x][y] = 1\n",
    "\n",
    "## 전체맵 정보를 입력받기\n",
    "array = []\n",
    "for i in range(N):\n",
    "    array.append(list(map(int, input().split())))\n",
    "\n",
    "# 북동남서 방향 정의\n",
    "dx = [-1, 0, 1, 0]\n",
    "dy = [0, 1, 0, -1]\n",
    "\n",
    "# 왼쪽으로 회전 함수\n",
    "def turnLeft():\n",
    "    global direct # 입력받은 캐릭터 방향을 전역변수로 선언\n",
    "    direct -= 1 # 왼쪽으로 회전, 근데 북쪽 보고있었다면 -1 빼면 3으로 해줘야겠지 북이 0이니까\n",
    "    if direct == -1: # -1이면 3으로\n",
    "        direct = 3\n",
    "    \n",
    "## 맵에서 칸을 방문하는 로직 구현\n",
    "count = 1 # 첫번째 칸을 방문했기 때문. 원래 서있는곳 말하는거인듯\n",
    "turnTime = 0\n",
    "\n",
    "while True:\n",
    "    turnLeft() # 왼쪽 회전\n",
    "    nx = x + dx[direct] # 북쪽 0인 경우 dx[0] dy[0]   -->    -1 0 이겠지\n",
    "    ny = y + dy[direct]\n",
    "    ## 캐릭터가 보는 방향으로 가보지않은 곳 (map1에 저장되어있음) 이라면 이동\n",
    "    if map1[nx][ny] == 0 and array[nx][ny] == 0: # map1이 0이면 아직 미방문 이라는거고, array가 0이면 그냥 맵 자체가 육지라는거지\n",
    "        map1[nx][ny] = 1 # 방문\n",
    "        x = nx; y = ny # 현재위치 변경\n",
    "        count += 1\n",
    "        turnTime = 0\n",
    "        continue\n",
    "    else: # 가보지 않은 칸이 없거나, 바다인 경우\n",
    "        turnTime += 1\n",
    "\n",
    "    ## 네 방향 모두 갈 수 없는 경우\n",
    "    if turnTime == 4:\n",
    "        nx = x - dx[direct]\n",
    "        ny = y - dy[direct]\n",
    "        ## 뒤로 갈 수 있는지\n",
    "        if array[nx][ny] == 0:\n",
    "            x = nx; y = ny\n",
    "        else:\n",
    "            break\n",
    "        turnTime = 0\n",
    "\n",
    "print(count)\n"
   ]
  },
  {
   "cell_type": "code",
   "execution_count": 7,
   "metadata": {},
   "outputs": [
    {
     "name": "stdout",
     "output_type": "stream",
     "text": [
      "3\n"
     ]
    }
   ],
   "source": [
    "# N, M을 공백을 기준으로 구분하여 입력받기\n",
    "n, m = map(int, input().split())\n",
    "\n",
    "# 방문한 위치를 저장하기 위한 맵을 생성하여 0으로 초기화\n",
    "d = [[0] * m for _ in range(n)]\n",
    "# 현재 캐릭터의 X 좌표, Y 좌표, 방향을 입력받기\n",
    "x, y, direction = map(int, input().split())\n",
    "d[x][y] = 1 # 현재 좌표 방문 처리\n",
    "\n",
    "# 전체 맵 정보를 입력받기\n",
    "array = []\n",
    "for i in range(n):\n",
    "    array.append(list(map(int, input().split())))\n",
    "\n",
    "# 북, 동, 남, 서 방향 정의\n",
    "dx = [-1, 0, 1, 0]\n",
    "dy = [0, 1, 0, -1]\n",
    "\n",
    "# 왼쪽으로 회전\n",
    "def turn_left():\n",
    "    global direction\n",
    "    direction -= 1\n",
    "    if direction == -1:\n",
    "        direction = 3\n",
    "\n",
    "# 시뮬레이션 시작\n",
    "count = 1\n",
    "turn_time = 0\n",
    "while True:\n",
    "    # 왼쪽으로 회전\n",
    "    turn_left()\n",
    "    nx = x + dx[direction]\n",
    "    ny = y + dy[direction]\n",
    "    # 회전한 이후 정면에 가보지 않은 칸이 존재하는 경우 이동\n",
    "    if d[nx][ny] == 0 and array[nx][ny] == 0:\n",
    "        d[nx][ny] = 1\n",
    "        x = nx\n",
    "        y = ny\n",
    "        count += 1\n",
    "        turn_time = 0\n",
    "        continue\n",
    "    # 회전한 이후 정면에 가보지 않은 칸이 없거나 바다인 경우\n",
    "    else:\n",
    "        turn_time += 1\n",
    "    # 네 방향 모두 갈 수 없는 경우\n",
    "    if turn_time == 4:\n",
    "        nx = x - dx[direction]\n",
    "        ny = y - dy[direction]\n",
    "        # 뒤로 갈 수 있다면 이동하기\n",
    "        if array[nx][ny] == 0:\n",
    "            x = nx\n",
    "            y = ny\n",
    "        # 뒤가 바다로 막혀있는 경우\n",
    "        else:\n",
    "            break\n",
    "        turn_time = 0\n",
    "\n",
    "# 정답 출력\n",
    "print(count)"
   ]
  }
 ],
 "metadata": {
  "kernelspec": {
   "display_name": "Python 3",
   "language": "python",
   "name": "python3"
  },
  "language_info": {
   "codemirror_mode": {
    "name": "ipython",
    "version": 3
   },
   "file_extension": ".py",
   "mimetype": "text/x-python",
   "name": "python",
   "nbconvert_exporter": "python",
   "pygments_lexer": "ipython3",
   "version": "3.11.5"
  }
 },
 "nbformat": 4,
 "nbformat_minor": 2
}
